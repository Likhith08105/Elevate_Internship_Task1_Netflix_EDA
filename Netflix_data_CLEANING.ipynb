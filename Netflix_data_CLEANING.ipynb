{
  "nbformat": 4,
  "nbformat_minor": 0,
  "metadata": {
    "colab": {
      "provenance": []
    },
    "kernelspec": {
      "name": "python3",
      "display_name": "Python 3"
    },
    "language_info": {
      "name": "python"
    }
  },
  "cells": [
    {
      "cell_type": "code",
      "execution_count": 12,
      "metadata": {
        "colab": {
          "base_uri": "https://localhost:8080/",
          "height": 73
        },
        "id": "cXCZP7KJrUYZ",
        "outputId": "59cbc5ec-fb38-4dc8-a58a-8362e12b16c7"
      },
      "outputs": [
        {
          "output_type": "display_data",
          "data": {
            "text/plain": [
              "<IPython.core.display.HTML object>"
            ],
            "text/html": [
              "\n",
              "     <input type=\"file\" id=\"files-3574c40b-336c-4514-b19b-eaadd6e9d098\" name=\"files[]\" multiple disabled\n",
              "        style=\"border:none\" />\n",
              "     <output id=\"result-3574c40b-336c-4514-b19b-eaadd6e9d098\">\n",
              "      Upload widget is only available when the cell has been executed in the\n",
              "      current browser session. Please rerun this cell to enable.\n",
              "      </output>\n",
              "      <script>// Copyright 2017 Google LLC\n",
              "//\n",
              "// Licensed under the Apache License, Version 2.0 (the \"License\");\n",
              "// you may not use this file except in compliance with the License.\n",
              "// You may obtain a copy of the License at\n",
              "//\n",
              "//      http://www.apache.org/licenses/LICENSE-2.0\n",
              "//\n",
              "// Unless required by applicable law or agreed to in writing, software\n",
              "// distributed under the License is distributed on an \"AS IS\" BASIS,\n",
              "// WITHOUT WARRANTIES OR CONDITIONS OF ANY KIND, either express or implied.\n",
              "// See the License for the specific language governing permissions and\n",
              "// limitations under the License.\n",
              "\n",
              "/**\n",
              " * @fileoverview Helpers for google.colab Python module.\n",
              " */\n",
              "(function(scope) {\n",
              "function span(text, styleAttributes = {}) {\n",
              "  const element = document.createElement('span');\n",
              "  element.textContent = text;\n",
              "  for (const key of Object.keys(styleAttributes)) {\n",
              "    element.style[key] = styleAttributes[key];\n",
              "  }\n",
              "  return element;\n",
              "}\n",
              "\n",
              "// Max number of bytes which will be uploaded at a time.\n",
              "const MAX_PAYLOAD_SIZE = 100 * 1024;\n",
              "\n",
              "function _uploadFiles(inputId, outputId) {\n",
              "  const steps = uploadFilesStep(inputId, outputId);\n",
              "  const outputElement = document.getElementById(outputId);\n",
              "  // Cache steps on the outputElement to make it available for the next call\n",
              "  // to uploadFilesContinue from Python.\n",
              "  outputElement.steps = steps;\n",
              "\n",
              "  return _uploadFilesContinue(outputId);\n",
              "}\n",
              "\n",
              "// This is roughly an async generator (not supported in the browser yet),\n",
              "// where there are multiple asynchronous steps and the Python side is going\n",
              "// to poll for completion of each step.\n",
              "// This uses a Promise to block the python side on completion of each step,\n",
              "// then passes the result of the previous step as the input to the next step.\n",
              "function _uploadFilesContinue(outputId) {\n",
              "  const outputElement = document.getElementById(outputId);\n",
              "  const steps = outputElement.steps;\n",
              "\n",
              "  const next = steps.next(outputElement.lastPromiseValue);\n",
              "  return Promise.resolve(next.value.promise).then((value) => {\n",
              "    // Cache the last promise value to make it available to the next\n",
              "    // step of the generator.\n",
              "    outputElement.lastPromiseValue = value;\n",
              "    return next.value.response;\n",
              "  });\n",
              "}\n",
              "\n",
              "/**\n",
              " * Generator function which is called between each async step of the upload\n",
              " * process.\n",
              " * @param {string} inputId Element ID of the input file picker element.\n",
              " * @param {string} outputId Element ID of the output display.\n",
              " * @return {!Iterable<!Object>} Iterable of next steps.\n",
              " */\n",
              "function* uploadFilesStep(inputId, outputId) {\n",
              "  const inputElement = document.getElementById(inputId);\n",
              "  inputElement.disabled = false;\n",
              "\n",
              "  const outputElement = document.getElementById(outputId);\n",
              "  outputElement.innerHTML = '';\n",
              "\n",
              "  const pickedPromise = new Promise((resolve) => {\n",
              "    inputElement.addEventListener('change', (e) => {\n",
              "      resolve(e.target.files);\n",
              "    });\n",
              "  });\n",
              "\n",
              "  const cancel = document.createElement('button');\n",
              "  inputElement.parentElement.appendChild(cancel);\n",
              "  cancel.textContent = 'Cancel upload';\n",
              "  const cancelPromise = new Promise((resolve) => {\n",
              "    cancel.onclick = () => {\n",
              "      resolve(null);\n",
              "    };\n",
              "  });\n",
              "\n",
              "  // Wait for the user to pick the files.\n",
              "  const files = yield {\n",
              "    promise: Promise.race([pickedPromise, cancelPromise]),\n",
              "    response: {\n",
              "      action: 'starting',\n",
              "    }\n",
              "  };\n",
              "\n",
              "  cancel.remove();\n",
              "\n",
              "  // Disable the input element since further picks are not allowed.\n",
              "  inputElement.disabled = true;\n",
              "\n",
              "  if (!files) {\n",
              "    return {\n",
              "      response: {\n",
              "        action: 'complete',\n",
              "      }\n",
              "    };\n",
              "  }\n",
              "\n",
              "  for (const file of files) {\n",
              "    const li = document.createElement('li');\n",
              "    li.append(span(file.name, {fontWeight: 'bold'}));\n",
              "    li.append(span(\n",
              "        `(${file.type || 'n/a'}) - ${file.size} bytes, ` +\n",
              "        `last modified: ${\n",
              "            file.lastModifiedDate ? file.lastModifiedDate.toLocaleDateString() :\n",
              "                                    'n/a'} - `));\n",
              "    const percent = span('0% done');\n",
              "    li.appendChild(percent);\n",
              "\n",
              "    outputElement.appendChild(li);\n",
              "\n",
              "    const fileDataPromise = new Promise((resolve) => {\n",
              "      const reader = new FileReader();\n",
              "      reader.onload = (e) => {\n",
              "        resolve(e.target.result);\n",
              "      };\n",
              "      reader.readAsArrayBuffer(file);\n",
              "    });\n",
              "    // Wait for the data to be ready.\n",
              "    let fileData = yield {\n",
              "      promise: fileDataPromise,\n",
              "      response: {\n",
              "        action: 'continue',\n",
              "      }\n",
              "    };\n",
              "\n",
              "    // Use a chunked sending to avoid message size limits. See b/62115660.\n",
              "    let position = 0;\n",
              "    do {\n",
              "      const length = Math.min(fileData.byteLength - position, MAX_PAYLOAD_SIZE);\n",
              "      const chunk = new Uint8Array(fileData, position, length);\n",
              "      position += length;\n",
              "\n",
              "      const base64 = btoa(String.fromCharCode.apply(null, chunk));\n",
              "      yield {\n",
              "        response: {\n",
              "          action: 'append',\n",
              "          file: file.name,\n",
              "          data: base64,\n",
              "        },\n",
              "      };\n",
              "\n",
              "      let percentDone = fileData.byteLength === 0 ?\n",
              "          100 :\n",
              "          Math.round((position / fileData.byteLength) * 100);\n",
              "      percent.textContent = `${percentDone}% done`;\n",
              "\n",
              "    } while (position < fileData.byteLength);\n",
              "  }\n",
              "\n",
              "  // All done.\n",
              "  yield {\n",
              "    response: {\n",
              "      action: 'complete',\n",
              "    }\n",
              "  };\n",
              "}\n",
              "\n",
              "scope.google = scope.google || {};\n",
              "scope.google.colab = scope.google.colab || {};\n",
              "scope.google.colab._files = {\n",
              "  _uploadFiles,\n",
              "  _uploadFilesContinue,\n",
              "};\n",
              "})(self);\n",
              "</script> "
            ]
          },
          "metadata": {}
        },
        {
          "output_type": "stream",
          "name": "stdout",
          "text": [
            "Saving netflix_titles.csv to netflix_titles (1).csv\n"
          ]
        }
      ],
      "source": [
        "from google.colab import files\n",
        "uploaded = files.upload()\n"
      ]
    },
    {
      "cell_type": "code",
      "source": [
        "import pandas as pd\n",
        "import numpy as np\n",
        "\n",
        "try:\n",
        "    df = pd.read_csv('netflix_titles.csv', encoding='latin-1')\n",
        "except UnicodeDecodeError:\n",
        "    df = pd.read_csv('netflix_titles.csv', encoding='ISO-8859-1')"
      ],
      "metadata": {
        "id": "fS8Z7o8awkax"
      },
      "execution_count": 13,
      "outputs": []
    },
    {
      "cell_type": "code",
      "source": [
        "print(df.shape)\n",
        "print(list(df.columns))"
      ],
      "metadata": {
        "colab": {
          "base_uri": "https://localhost:8080/"
        },
        "id": "htCDLkaQwpiq",
        "outputId": "d4d244a6-a990-479a-f8f2-33df0e0ade41"
      },
      "execution_count": 14,
      "outputs": [
        {
          "output_type": "stream",
          "name": "stdout",
          "text": [
            "(8809, 26)\n",
            "['show_id', 'type', 'title', 'director', 'cast', 'country', 'date_added', 'release_year', 'rating', 'duration', 'listed_in', 'description', 'Unnamed: 12', 'Unnamed: 13', 'Unnamed: 14', 'Unnamed: 15', 'Unnamed: 16', 'Unnamed: 17', 'Unnamed: 18', 'Unnamed: 19', 'Unnamed: 20', 'Unnamed: 21', 'Unnamed: 22', 'Unnamed: 23', 'Unnamed: 24', 'Unnamed: 25']\n"
          ]
        }
      ]
    },
    {
      "cell_type": "code",
      "source": [
        "df.info()\n",
        "print(df.isnull().sum())"
      ],
      "metadata": {
        "colab": {
          "base_uri": "https://localhost:8080/"
        },
        "id": "8b2hxZP7wqSj",
        "outputId": "c2353e01-f7ef-40eb-fcec-28202ee1f262"
      },
      "execution_count": 15,
      "outputs": [
        {
          "output_type": "stream",
          "name": "stdout",
          "text": [
            "<class 'pandas.core.frame.DataFrame'>\n",
            "RangeIndex: 8809 entries, 0 to 8808\n",
            "Data columns (total 26 columns):\n",
            " #   Column        Non-Null Count  Dtype  \n",
            "---  ------        --------------  -----  \n",
            " 0   show_id       8809 non-null   object \n",
            " 1   type          8809 non-null   object \n",
            " 2   title         8809 non-null   object \n",
            " 3   director      6175 non-null   object \n",
            " 4   cast          7984 non-null   object \n",
            " 5   country       7978 non-null   object \n",
            " 6   date_added    8799 non-null   object \n",
            " 7   release_year  8809 non-null   int64  \n",
            " 8   rating        8805 non-null   object \n",
            " 9   duration      8806 non-null   object \n",
            " 10  listed_in     8809 non-null   object \n",
            " 11  description   8809 non-null   object \n",
            " 12  Unnamed: 12   0 non-null      float64\n",
            " 13  Unnamed: 13   0 non-null      float64\n",
            " 14  Unnamed: 14   0 non-null      float64\n",
            " 15  Unnamed: 15   0 non-null      float64\n",
            " 16  Unnamed: 16   0 non-null      float64\n",
            " 17  Unnamed: 17   0 non-null      float64\n",
            " 18  Unnamed: 18   0 non-null      float64\n",
            " 19  Unnamed: 19   0 non-null      float64\n",
            " 20  Unnamed: 20   0 non-null      float64\n",
            " 21  Unnamed: 21   0 non-null      float64\n",
            " 22  Unnamed: 22   0 non-null      float64\n",
            " 23  Unnamed: 23   0 non-null      float64\n",
            " 24  Unnamed: 24   0 non-null      float64\n",
            " 25  Unnamed: 25   0 non-null      float64\n",
            "dtypes: float64(14), int64(1), object(11)\n",
            "memory usage: 1.7+ MB\n",
            "show_id            0\n",
            "type               0\n",
            "title              0\n",
            "director        2634\n",
            "cast             825\n",
            "country          831\n",
            "date_added        10\n",
            "release_year       0\n",
            "rating             4\n",
            "duration           3\n",
            "listed_in          0\n",
            "description        0\n",
            "Unnamed: 12     8809\n",
            "Unnamed: 13     8809\n",
            "Unnamed: 14     8809\n",
            "Unnamed: 15     8809\n",
            "Unnamed: 16     8809\n",
            "Unnamed: 17     8809\n",
            "Unnamed: 18     8809\n",
            "Unnamed: 19     8809\n",
            "Unnamed: 20     8809\n",
            "Unnamed: 21     8809\n",
            "Unnamed: 22     8809\n",
            "Unnamed: 23     8809\n",
            "Unnamed: 24     8809\n",
            "Unnamed: 25     8809\n",
            "dtype: int64\n"
          ]
        }
      ]
    },
    {
      "cell_type": "code",
      "source": [
        "before_dup = df.duplicated().sum()\n",
        "df = df.drop_duplicates().reset_index(drop=True)\n",
        "print(f\"Duplicates removed: {before_dup - df.duplicated().sum()}\")"
      ],
      "metadata": {
        "colab": {
          "base_uri": "https://localhost:8080/"
        },
        "id": "m2LwJ6YPwsLo",
        "outputId": "3deb6e6d-f54b-4a15-83e8-842bce840956"
      },
      "execution_count": 16,
      "outputs": [
        {
          "output_type": "stream",
          "name": "stdout",
          "text": [
            "Duplicates removed: 0\n"
          ]
        }
      ]
    },
    {
      "cell_type": "code",
      "source": [
        "df.columns = df.columns.str.lower().str.replace(' ', '_')\n",
        "print(df.columns)"
      ],
      "metadata": {
        "colab": {
          "base_uri": "https://localhost:8080/"
        },
        "id": "LommxS8IwtoV",
        "outputId": "7a2378a1-8621-4d72-b4e5-b978526b2871"
      },
      "execution_count": 17,
      "outputs": [
        {
          "output_type": "stream",
          "name": "stdout",
          "text": [
            "Index(['show_id', 'type', 'title', 'director', 'cast', 'country', 'date_added',\n",
            "       'release_year', 'rating', 'duration', 'listed_in', 'description',\n",
            "       'unnamed:_12', 'unnamed:_13', 'unnamed:_14', 'unnamed:_15',\n",
            "       'unnamed:_16', 'unnamed:_17', 'unnamed:_18', 'unnamed:_19',\n",
            "       'unnamed:_20', 'unnamed:_21', 'unnamed:_22', 'unnamed:_23',\n",
            "       'unnamed:_24', 'unnamed:_25'],\n",
            "      dtype='object')\n"
          ]
        }
      ]
    },
    {
      "cell_type": "code",
      "source": [
        "df['date_added'] = pd.to_datetime(df['date_added'], errors='coerce')\n",
        "df['release_year'] = pd.to_numeric(df['release_year'], errors='coerce').astype('Int64')\n",
        "print(\"Date parsing done\")"
      ],
      "metadata": {
        "colab": {
          "base_uri": "https://localhost:8080/"
        },
        "id": "vPEy42FjwvAX",
        "outputId": "fbdfa53e-52bb-45b6-83c6-4211b950e390"
      },
      "execution_count": 18,
      "outputs": [
        {
          "output_type": "stream",
          "name": "stdout",
          "text": [
            "Date parsing done\n"
          ]
        }
      ]
    },
    {
      "cell_type": "code",
      "source": [
        "for col in df.select_dtypes(include='object').columns:\n",
        "    df[col] = df[col].fillna('Unknown')\n",
        "\n",
        "for col in df.select_dtypes(include=['Int64', 'float64']).columns:\n",
        "    if df[col].isnull().any():\n",
        "        df[col] = df[col].fillna(df[col].median())\n",
        "\n",
        "# Handle date_added nulls created by coerce\n",
        "df.dropna(subset=['date_added'], inplace=True)\n",
        "\n",
        "print(\"Missing values handled\")"
      ],
      "metadata": {
        "colab": {
          "base_uri": "https://localhost:8080/"
        },
        "id": "ZLDdZ3x3wwIP",
        "outputId": "84bd7497-3a0d-44ac-aff1-2df0f5ec2617"
      },
      "execution_count": 19,
      "outputs": [
        {
          "output_type": "stream",
          "name": "stdout",
          "text": [
            "Missing values handled\n"
          ]
        }
      ]
    },
    {
      "cell_type": "code",
      "source": [
        "df['country'] = df['country'].apply(lambda x: x.split(',')[0].strip())\n",
        "df['description'] = df['description'].str.lower()\n",
        "df['year_added'] = df['date_added'].dt.year\n",
        "print(\"Feature extraction done\")"
      ],
      "metadata": {
        "colab": {
          "base_uri": "https://localhost:8080/"
        },
        "id": "F5ox3x32wxWm",
        "outputId": "d21bdb0e-aa5e-4b27-d698-61713cf76abf"
      },
      "execution_count": 20,
      "outputs": [
        {
          "output_type": "stream",
          "name": "stdout",
          "text": [
            "Feature extraction done\n"
          ]
        }
      ]
    },
    {
      "cell_type": "code",
      "source": [
        "df.info()\n",
        "cleaned_file_name = 'netflix_titles_cleaned.csv'\n",
        "df.to_csv(cleaned_file_name, index=False)\n",
        "print(f\"Cleaned dataset exported as: {cleaned_file_name}\")"
      ],
      "metadata": {
        "colab": {
          "base_uri": "https://localhost:8080/"
        },
        "id": "Z3UXFWvCwz6a",
        "outputId": "5cf9e9fa-8f13-42da-9359-b7e369585a1e"
      },
      "execution_count": 21,
      "outputs": [
        {
          "output_type": "stream",
          "name": "stdout",
          "text": [
            "<class 'pandas.core.frame.DataFrame'>\n",
            "Index: 8711 entries, 0 to 8808\n",
            "Data columns (total 27 columns):\n",
            " #   Column        Non-Null Count  Dtype         \n",
            "---  ------        --------------  -----         \n",
            " 0   show_id       8711 non-null   object        \n",
            " 1   type          8711 non-null   object        \n",
            " 2   title         8711 non-null   object        \n",
            " 3   director      8711 non-null   object        \n",
            " 4   cast          8711 non-null   object        \n",
            " 5   country       8711 non-null   object        \n",
            " 6   date_added    8711 non-null   datetime64[ns]\n",
            " 7   release_year  8711 non-null   Int64         \n",
            " 8   rating        8711 non-null   object        \n",
            " 9   duration      8711 non-null   object        \n",
            " 10  listed_in     8711 non-null   object        \n",
            " 11  description   8711 non-null   object        \n",
            " 12  unnamed:_12   0 non-null      float64       \n",
            " 13  unnamed:_13   0 non-null      float64       \n",
            " 14  unnamed:_14   0 non-null      float64       \n",
            " 15  unnamed:_15   0 non-null      float64       \n",
            " 16  unnamed:_16   0 non-null      float64       \n",
            " 17  unnamed:_17   0 non-null      float64       \n",
            " 18  unnamed:_18   0 non-null      float64       \n",
            " 19  unnamed:_19   0 non-null      float64       \n",
            " 20  unnamed:_20   0 non-null      float64       \n",
            " 21  unnamed:_21   0 non-null      float64       \n",
            " 22  unnamed:_22   0 non-null      float64       \n",
            " 23  unnamed:_23   0 non-null      float64       \n",
            " 24  unnamed:_24   0 non-null      float64       \n",
            " 25  unnamed:_25   0 non-null      float64       \n",
            " 26  year_added    8711 non-null   int32         \n",
            "dtypes: Int64(1), datetime64[ns](1), float64(14), int32(1), object(10)\n",
            "memory usage: 1.8+ MB\n",
            "Cleaned dataset exported as: netflix_titles_cleaned.csv\n"
          ]
        }
      ]
    },
    {
      "cell_type": "code",
      "source": [
        "import matplotlib.pyplot as plt\n",
        "import seaborn as sns"
      ],
      "metadata": {
        "id": "lZh6Z-IQw2Fe"
      },
      "execution_count": 22,
      "outputs": []
    },
    {
      "cell_type": "code",
      "source": [
        "plt.figure(figsize=(10, 6))\n",
        "sns.countplot(y='year_added', data=df, order=df['year_added'].value_counts().index)\n",
        "plt.title('Content Added to Netflix Over Time')\n",
        "plt.show()"
      ],
      "metadata": {
        "colab": {
          "base_uri": "https://localhost:8080/",
          "height": 564
        },
        "id": "TAHTH0-tw2_y",
        "outputId": "0322c2e0-aa9e-4a58-91b5-1bc787224f21"
      },
      "execution_count": 23,
      "outputs": [
        {
          "output_type": "display_data",
          "data": {
            "text/plain": [
              "<Figure size 1000x600 with 1 Axes>"
            ],
            "image/png": "[encoded data removed]"
          },
          "metadata": {}
        }
      ]
    },
    {
      "cell_type": "code",
      "source": [
        "plt.figure(figsize=(7, 7))\n",
        "df['type'].value_counts().plot.pie(autopct='%1.1f%%', startangle=90, colors=['#b20710', '#221f1f'])\n",
        "plt.title('Distribution of Netflix Content Type')\n",
        "plt.ylabel('')\n",
        "plt.show()"
      ],
      "metadata": {
        "colab": {
          "base_uri": "https://localhost:8080/",
          "height": 598
        },
        "id": "FqVxbW2Aw5Gb",
        "outputId": "34904620-2779-4c80-92bf-8a63ab5472cb"
      },
      "execution_count": 24,
      "outputs": [
        {
          "output_type": "display_data",
          "data": {
            "text/plain": [
              "<Figure size 700x700 with 1 Axes>"
            ],
            "image/png": "[encoded data removed]"
          },
          "metadata": {}
        }
      ]
    },
    {
      "cell_type": "code",
      "source": [
        "df.info()\n",
        "cleaned_file_name = 'netflix_titles_cleaned.csv'\n",
        "df.to_csv(cleaned_file_name, index=False)\n",
        "print(f\"Cleaned dataset exported as: {cleaned_file_name}\")"
      ],
      "metadata": {
        "colab": {
          "base_uri": "https://localhost:8080/"
        },
        "id": "qgRQ5edDw6u2",
        "outputId": "df5a011d-3288-45af-f27b-cf3e5d90f970"
      },
      "execution_count": 25,
      "outputs": [
        {
          "output_type": "stream",
          "name": "stdout",
          "text": [
            "<class 'pandas.core.frame.DataFrame'>\n",
            "Index: 8711 entries, 0 to 8808\n",
            "Data columns (total 27 columns):\n",
            " #   Column        Non-Null Count  Dtype         \n",
            "---  ------        --------------  -----         \n",
            " 0   show_id       8711 non-null   object        \n",
            " 1   type          8711 non-null   object        \n",
            " 2   title         8711 non-null   object        \n",
            " 3   director      8711 non-null   object        \n",
            " 4   cast          8711 non-null   object        \n",
            " 5   country       8711 non-null   object        \n",
            " 6   date_added    8711 non-null   datetime64[ns]\n",
            " 7   release_year  8711 non-null   Int64         \n",
            " 8   rating        8711 non-null   object        \n",
            " 9   duration      8711 non-null   object        \n",
            " 10  listed_in     8711 non-null   object        \n",
            " 11  description   8711 non-null   object        \n",
            " 12  unnamed:_12   0 non-null      float64       \n",
            " 13  unnamed:_13   0 non-null      float64       \n",
            " 14  unnamed:_14   0 non-null      float64       \n",
            " 15  unnamed:_15   0 non-null      float64       \n",
            " 16  unnamed:_16   0 non-null      float64       \n",
            " 17  unnamed:_17   0 non-null      float64       \n",
            " 18  unnamed:_18   0 non-null      float64       \n",
            " 19  unnamed:_19   0 non-null      float64       \n",
            " 20  unnamed:_20   0 non-null      float64       \n",
            " 21  unnamed:_21   0 non-null      float64       \n",
            " 22  unnamed:_22   0 non-null      float64       \n",
            " 23  unnamed:_23   0 non-null      float64       \n",
            " 24  unnamed:_24   0 non-null      float64       \n",
            " 25  unnamed:_25   0 non-null      float64       \n",
            " 26  year_added    8711 non-null   int32         \n",
            "dtypes: Int64(1), datetime64[ns](1), float64(14), int32(1), object(10)\n",
            "memory usage: 1.8+ MB\n",
            "Cleaned dataset exported as: netflix_titles_cleaned.csv\n"
          ]
        }
      ]
    }
  ]
}